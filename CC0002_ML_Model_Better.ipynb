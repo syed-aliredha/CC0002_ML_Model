{
 "cells": [
  {
   "cell_type": "markdown",
   "id": "0735d5a8",
   "metadata": {},
   "source": [
    "# CC0002 Fake News AI model"
   ]
  },
  {
   "cell_type": "markdown",
   "id": "0cb1b4dc",
   "metadata": {},
   "source": [
    "In this Notebook, we will be going through how we trained our AI model for **classifying fake news**, implementing knowledge we learnt in **Quantitative Analysis and Artificial Intelligence** to help users discern possible fake news."
   ]
  },
  {
   "cell_type": "code",
   "execution_count": 1,
   "id": "cb738152",
   "metadata": {},
   "outputs": [],
   "source": [
    "# Relevant libraries for quantitative analysis and data visualisation\n",
    "import numpy as np\n",
    "import pandas as pd\n",
    "import seaborn as sb\n",
    "import matplotlib.pyplot as plt\n",
    "sb.set() # set the default Seaborn style for graphics\n",
    "\n",
    "# Relevant libraries for preprocessing and test/train split\n",
    "import nltk\n",
    "from sklearn.feature_extraction.text import TfidfVectorizer\n",
    "from sklearn.model_selection import train_test_split\n",
    "from sklearn.pipeline import Pipeline\n",
    "from sklearn.preprocessing import FunctionTransformer\n",
    "from sklearn.compose import ColumnTransformer\n",
    "import re\n",
    "from nltk.corpus import stopwords\n",
    "from nltk.stem import PorterStemmer\n",
    "from nltk.tokenize import word_tokenize\n",
    "import nltk"
   ]
  },
  {
   "cell_type": "markdown",
   "id": "dd22a7e3",
   "metadata": {},
   "source": [
    "# Import the dataset\n",
    "We will be importing and combining 2 datasets for our model training.<br> \n",
    "\n",
    "First is the WELFake dataset from https://www.kaggle.com/datasets/saurabhshahane/fake-news-classification. The dataset consists of 72,134 news articles with 35,028 real and 37,106 fake news and the real news are aggreagated from four popular news datasets (i.e. Kaggle, McIntire, Reuters, BuzzFeed Political). \n",
    "\n",
    "Second is the ISOT Fake News Dataset from https://www.kaggle.com/datasets/emineyetm/fake-news-detection-datasets. The dataset contains over 12,600 real and 12600 fake news. The truthful articles were obtained by crawling articles from Reuters.com (News website) and the fake news were collected from unreliable websites that were flagged by Politifact (a fact-checking organization in the USA)."
   ]
  },
  {
   "cell_type": "code",
   "execution_count": 2,
   "id": "f9b4fcea",
   "metadata": {},
   "outputs": [
    {
     "data": {
      "text/html": [
       "<div>\n",
       "<style scoped>\n",
       "    .dataframe tbody tr th:only-of-type {\n",
       "        vertical-align: middle;\n",
       "    }\n",
       "\n",
       "    .dataframe tbody tr th {\n",
       "        vertical-align: top;\n",
       "    }\n",
       "\n",
       "    .dataframe thead th {\n",
       "        text-align: right;\n",
       "    }\n",
       "</style>\n",
       "<table border=\"1\" class=\"dataframe\">\n",
       "  <thead>\n",
       "    <tr style=\"text-align: right;\">\n",
       "      <th></th>\n",
       "      <th>title</th>\n",
       "      <th>text</th>\n",
       "      <th>subject</th>\n",
       "      <th>date</th>\n",
       "    </tr>\n",
       "  </thead>\n",
       "  <tbody>\n",
       "    <tr>\n",
       "      <th>0</th>\n",
       "      <td>As U.S. budget fight looms, Republicans flip t...</td>\n",
       "      <td>WASHINGTON (Reuters) - The head of a conservat...</td>\n",
       "      <td>politicsNews</td>\n",
       "      <td>December 31, 2017</td>\n",
       "    </tr>\n",
       "    <tr>\n",
       "      <th>1</th>\n",
       "      <td>U.S. military to accept transgender recruits o...</td>\n",
       "      <td>WASHINGTON (Reuters) - Transgender people will...</td>\n",
       "      <td>politicsNews</td>\n",
       "      <td>December 29, 2017</td>\n",
       "    </tr>\n",
       "    <tr>\n",
       "      <th>2</th>\n",
       "      <td>Senior U.S. Republican senator: 'Let Mr. Muell...</td>\n",
       "      <td>WASHINGTON (Reuters) - The special counsel inv...</td>\n",
       "      <td>politicsNews</td>\n",
       "      <td>December 31, 2017</td>\n",
       "    </tr>\n",
       "    <tr>\n",
       "      <th>3</th>\n",
       "      <td>FBI Russia probe helped by Australian diplomat...</td>\n",
       "      <td>WASHINGTON (Reuters) - Trump campaign adviser ...</td>\n",
       "      <td>politicsNews</td>\n",
       "      <td>December 30, 2017</td>\n",
       "    </tr>\n",
       "    <tr>\n",
       "      <th>4</th>\n",
       "      <td>Trump wants Postal Service to charge 'much mor...</td>\n",
       "      <td>SEATTLE/WASHINGTON (Reuters) - President Donal...</td>\n",
       "      <td>politicsNews</td>\n",
       "      <td>December 29, 2017</td>\n",
       "    </tr>\n",
       "  </tbody>\n",
       "</table>\n",
       "</div>"
      ],
      "text/plain": [
       "                                               title  \\\n",
       "0  As U.S. budget fight looms, Republicans flip t...   \n",
       "1  U.S. military to accept transgender recruits o...   \n",
       "2  Senior U.S. Republican senator: 'Let Mr. Muell...   \n",
       "3  FBI Russia probe helped by Australian diplomat...   \n",
       "4  Trump wants Postal Service to charge 'much mor...   \n",
       "\n",
       "                                                text       subject  \\\n",
       "0  WASHINGTON (Reuters) - The head of a conservat...  politicsNews   \n",
       "1  WASHINGTON (Reuters) - Transgender people will...  politicsNews   \n",
       "2  WASHINGTON (Reuters) - The special counsel inv...  politicsNews   \n",
       "3  WASHINGTON (Reuters) - Trump campaign adviser ...  politicsNews   \n",
       "4  SEATTLE/WASHINGTON (Reuters) - President Donal...  politicsNews   \n",
       "\n",
       "                 date  \n",
       "0  December 31, 2017   \n",
       "1  December 29, 2017   \n",
       "2  December 31, 2017   \n",
       "3  December 30, 2017   \n",
       "4  December 29, 2017   "
      ]
     },
     "execution_count": 2,
     "metadata": {},
     "output_type": "execute_result"
    }
   ],
   "source": [
    "# Load the CSV file\n",
    "true_df = pd.read_csv('True.csv')\n",
    "true_df.head()"
   ]
  },
  {
   "cell_type": "code",
   "execution_count": 3,
   "id": "dd08f690",
   "metadata": {},
   "outputs": [
    {
     "data": {
      "text/html": [
       "<div>\n",
       "<style scoped>\n",
       "    .dataframe tbody tr th:only-of-type {\n",
       "        vertical-align: middle;\n",
       "    }\n",
       "\n",
       "    .dataframe tbody tr th {\n",
       "        vertical-align: top;\n",
       "    }\n",
       "\n",
       "    .dataframe thead th {\n",
       "        text-align: right;\n",
       "    }\n",
       "</style>\n",
       "<table border=\"1\" class=\"dataframe\">\n",
       "  <thead>\n",
       "    <tr style=\"text-align: right;\">\n",
       "      <th></th>\n",
       "      <th>title</th>\n",
       "      <th>text</th>\n",
       "      <th>subject</th>\n",
       "      <th>date</th>\n",
       "    </tr>\n",
       "  </thead>\n",
       "  <tbody>\n",
       "    <tr>\n",
       "      <th>0</th>\n",
       "      <td>Donald Trump Sends Out Embarrassing New Year’...</td>\n",
       "      <td>Donald Trump just couldn t wish all Americans ...</td>\n",
       "      <td>News</td>\n",
       "      <td>December 31, 2017</td>\n",
       "    </tr>\n",
       "    <tr>\n",
       "      <th>1</th>\n",
       "      <td>Drunk Bragging Trump Staffer Started Russian ...</td>\n",
       "      <td>House Intelligence Committee Chairman Devin Nu...</td>\n",
       "      <td>News</td>\n",
       "      <td>December 31, 2017</td>\n",
       "    </tr>\n",
       "    <tr>\n",
       "      <th>2</th>\n",
       "      <td>Sheriff David Clarke Becomes An Internet Joke...</td>\n",
       "      <td>On Friday, it was revealed that former Milwauk...</td>\n",
       "      <td>News</td>\n",
       "      <td>December 30, 2017</td>\n",
       "    </tr>\n",
       "    <tr>\n",
       "      <th>3</th>\n",
       "      <td>Trump Is So Obsessed He Even Has Obama’s Name...</td>\n",
       "      <td>On Christmas day, Donald Trump announced that ...</td>\n",
       "      <td>News</td>\n",
       "      <td>December 29, 2017</td>\n",
       "    </tr>\n",
       "    <tr>\n",
       "      <th>4</th>\n",
       "      <td>Pope Francis Just Called Out Donald Trump Dur...</td>\n",
       "      <td>Pope Francis used his annual Christmas Day mes...</td>\n",
       "      <td>News</td>\n",
       "      <td>December 25, 2017</td>\n",
       "    </tr>\n",
       "  </tbody>\n",
       "</table>\n",
       "</div>"
      ],
      "text/plain": [
       "                                               title  \\\n",
       "0   Donald Trump Sends Out Embarrassing New Year’...   \n",
       "1   Drunk Bragging Trump Staffer Started Russian ...   \n",
       "2   Sheriff David Clarke Becomes An Internet Joke...   \n",
       "3   Trump Is So Obsessed He Even Has Obama’s Name...   \n",
       "4   Pope Francis Just Called Out Donald Trump Dur...   \n",
       "\n",
       "                                                text subject  \\\n",
       "0  Donald Trump just couldn t wish all Americans ...    News   \n",
       "1  House Intelligence Committee Chairman Devin Nu...    News   \n",
       "2  On Friday, it was revealed that former Milwauk...    News   \n",
       "3  On Christmas day, Donald Trump announced that ...    News   \n",
       "4  Pope Francis used his annual Christmas Day mes...    News   \n",
       "\n",
       "                date  \n",
       "0  December 31, 2017  \n",
       "1  December 31, 2017  \n",
       "2  December 30, 2017  \n",
       "3  December 29, 2017  \n",
       "4  December 25, 2017  "
      ]
     },
     "execution_count": 3,
     "metadata": {},
     "output_type": "execute_result"
    }
   ],
   "source": [
    "# Load the CSV file\n",
    "fake_df = pd.read_csv('Fake.csv')\n",
    "fake_df.head()"
   ]
  },
  {
   "cell_type": "markdown",
   "id": "fd036baa",
   "metadata": {},
   "source": [
    "## Data Preparation and Cleaning"
   ]
  },
  {
   "cell_type": "markdown",
   "id": "7a1da2ed",
   "metadata": {},
   "source": [
    "We will now be preparing for our model. We will first combine both the real and fake news datasets provided by the link, and provide labels for them for future supervised learning **(0 - Not Fake, 1 - Fake)**.\n",
    "\n",
    "Dataset used from: https://www.kaggle.com/datasets/jainpooja/fake-news-detection"
   ]
  },
  {
   "cell_type": "code",
   "execution_count": 4,
   "id": "dd3fa9f1",
   "metadata": {},
   "outputs": [],
   "source": [
    "# Add a column for data labels for later training\n",
    "true_df['Fake/Not Fake'] = 0\n",
    "fake_df['Fake/Not Fake'] = 1\n",
    "\n",
    "# Concatenate both datasets together \n",
    "dataset1_df = pd.concat([fake_df, true_df], ignore_index=True)\n",
    "dataset1_df = dataset1_df.drop(columns=['subject','date'])"
   ]
  },
  {
   "cell_type": "code",
   "execution_count": 5,
   "id": "0d6bf2b1",
   "metadata": {},
   "outputs": [
    {
     "data": {
      "text/html": [
       "<div>\n",
       "<style scoped>\n",
       "    .dataframe tbody tr th:only-of-type {\n",
       "        vertical-align: middle;\n",
       "    }\n",
       "\n",
       "    .dataframe tbody tr th {\n",
       "        vertical-align: top;\n",
       "    }\n",
       "\n",
       "    .dataframe thead th {\n",
       "        text-align: right;\n",
       "    }\n",
       "</style>\n",
       "<table border=\"1\" class=\"dataframe\">\n",
       "  <thead>\n",
       "    <tr style=\"text-align: right;\">\n",
       "      <th></th>\n",
       "      <th>title</th>\n",
       "      <th>text</th>\n",
       "      <th>Fake/Not Fake</th>\n",
       "    </tr>\n",
       "  </thead>\n",
       "  <tbody>\n",
       "    <tr>\n",
       "      <th>0</th>\n",
       "      <td>Donald Trump Sends Out Embarrassing New Year’...</td>\n",
       "      <td>Donald Trump just couldn t wish all Americans ...</td>\n",
       "      <td>1</td>\n",
       "    </tr>\n",
       "    <tr>\n",
       "      <th>1</th>\n",
       "      <td>Drunk Bragging Trump Staffer Started Russian ...</td>\n",
       "      <td>House Intelligence Committee Chairman Devin Nu...</td>\n",
       "      <td>1</td>\n",
       "    </tr>\n",
       "    <tr>\n",
       "      <th>2</th>\n",
       "      <td>Sheriff David Clarke Becomes An Internet Joke...</td>\n",
       "      <td>On Friday, it was revealed that former Milwauk...</td>\n",
       "      <td>1</td>\n",
       "    </tr>\n",
       "    <tr>\n",
       "      <th>3</th>\n",
       "      <td>Trump Is So Obsessed He Even Has Obama’s Name...</td>\n",
       "      <td>On Christmas day, Donald Trump announced that ...</td>\n",
       "      <td>1</td>\n",
       "    </tr>\n",
       "    <tr>\n",
       "      <th>4</th>\n",
       "      <td>Pope Francis Just Called Out Donald Trump Dur...</td>\n",
       "      <td>Pope Francis used his annual Christmas Day mes...</td>\n",
       "      <td>1</td>\n",
       "    </tr>\n",
       "  </tbody>\n",
       "</table>\n",
       "</div>"
      ],
      "text/plain": [
       "                                               title  \\\n",
       "0   Donald Trump Sends Out Embarrassing New Year’...   \n",
       "1   Drunk Bragging Trump Staffer Started Russian ...   \n",
       "2   Sheriff David Clarke Becomes An Internet Joke...   \n",
       "3   Trump Is So Obsessed He Even Has Obama’s Name...   \n",
       "4   Pope Francis Just Called Out Donald Trump Dur...   \n",
       "\n",
       "                                                text  Fake/Not Fake  \n",
       "0  Donald Trump just couldn t wish all Americans ...              1  \n",
       "1  House Intelligence Committee Chairman Devin Nu...              1  \n",
       "2  On Friday, it was revealed that former Milwauk...              1  \n",
       "3  On Christmas day, Donald Trump announced that ...              1  \n",
       "4  Pope Francis used his annual Christmas Day mes...              1  "
      ]
     },
     "execution_count": 5,
     "metadata": {},
     "output_type": "execute_result"
    }
   ],
   "source": [
    "dataset1_df.head()"
   ]
  },
  {
   "cell_type": "code",
   "execution_count": 6,
   "id": "1d358518",
   "metadata": {},
   "outputs": [],
   "source": [
    "dataset2_df = pd.read_csv('WELFake_Dataset.csv')"
   ]
  },
  {
   "cell_type": "code",
   "execution_count": 7,
   "id": "ae89a17f",
   "metadata": {},
   "outputs": [
    {
     "data": {
      "text/html": [
       "<div>\n",
       "<style scoped>\n",
       "    .dataframe tbody tr th:only-of-type {\n",
       "        vertical-align: middle;\n",
       "    }\n",
       "\n",
       "    .dataframe tbody tr th {\n",
       "        vertical-align: top;\n",
       "    }\n",
       "\n",
       "    .dataframe thead th {\n",
       "        text-align: right;\n",
       "    }\n",
       "</style>\n",
       "<table border=\"1\" class=\"dataframe\">\n",
       "  <thead>\n",
       "    <tr style=\"text-align: right;\">\n",
       "      <th></th>\n",
       "      <th>title</th>\n",
       "      <th>text</th>\n",
       "      <th>Fake/Not Fake</th>\n",
       "    </tr>\n",
       "  </thead>\n",
       "  <tbody>\n",
       "    <tr>\n",
       "      <th>0</th>\n",
       "      <td>LAW ENFORCEMENT ON HIGH ALERT Following Threat...</td>\n",
       "      <td>No comment is expected from Barack Obama Membe...</td>\n",
       "      <td>1</td>\n",
       "    </tr>\n",
       "    <tr>\n",
       "      <th>1</th>\n",
       "      <td>NaN</td>\n",
       "      <td>Did they post their votes for Hillary already?</td>\n",
       "      <td>1</td>\n",
       "    </tr>\n",
       "    <tr>\n",
       "      <th>2</th>\n",
       "      <td>UNBELIEVABLE! OBAMA’S ATTORNEY GENERAL SAYS MO...</td>\n",
       "      <td>Now, most of the demonstrators gathered last ...</td>\n",
       "      <td>1</td>\n",
       "    </tr>\n",
       "    <tr>\n",
       "      <th>3</th>\n",
       "      <td>Bobby Jindal, raised Hindu, uses story of Chri...</td>\n",
       "      <td>A dozen politically active pastors came here f...</td>\n",
       "      <td>0</td>\n",
       "    </tr>\n",
       "    <tr>\n",
       "      <th>4</th>\n",
       "      <td>SATAN 2: Russia unvelis an image of its terrif...</td>\n",
       "      <td>The RS-28 Sarmat missile, dubbed Satan 2, will...</td>\n",
       "      <td>1</td>\n",
       "    </tr>\n",
       "  </tbody>\n",
       "</table>\n",
       "</div>"
      ],
      "text/plain": [
       "                                               title  \\\n",
       "0  LAW ENFORCEMENT ON HIGH ALERT Following Threat...   \n",
       "1                                                NaN   \n",
       "2  UNBELIEVABLE! OBAMA’S ATTORNEY GENERAL SAYS MO...   \n",
       "3  Bobby Jindal, raised Hindu, uses story of Chri...   \n",
       "4  SATAN 2: Russia unvelis an image of its terrif...   \n",
       "\n",
       "                                                text  Fake/Not Fake  \n",
       "0  No comment is expected from Barack Obama Membe...              1  \n",
       "1     Did they post their votes for Hillary already?              1  \n",
       "2   Now, most of the demonstrators gathered last ...              1  \n",
       "3  A dozen politically active pastors came here f...              0  \n",
       "4  The RS-28 Sarmat missile, dubbed Satan 2, will...              1  "
      ]
     },
     "execution_count": 7,
     "metadata": {},
     "output_type": "execute_result"
    }
   ],
   "source": [
    "# Clean the 2nd dataset to match the 1st one for concatenation later\n",
    "dataset2_df = dataset2_df.drop(columns=['Unnamed: 0'])\n",
    "dataset2_df = dataset2_df.rename(columns={\"label\": \"Fake/Not Fake\"})\n",
    "dataset2_df.head()"
   ]
  },
  {
   "cell_type": "code",
   "execution_count": 8,
   "id": "08fb1968",
   "metadata": {},
   "outputs": [],
   "source": [
    "# Concatenate both datasets together to get the full dataset\n",
    "full_dataset_df = pd.concat([dataset1_df, dataset2_df], ignore_index=True)"
   ]
  },
  {
   "cell_type": "code",
   "execution_count": 9,
   "id": "9115bc4d",
   "metadata": {},
   "outputs": [
    {
     "name": "stdout",
     "output_type": "stream",
     "text": [
      "title            0\n",
      "text             0\n",
      "Fake/Not Fake    0\n",
      "dtype: int64\n"
     ]
    }
   ],
   "source": [
    "# Drop any row that has incomplete data\n",
    "full_dataset_df.dropna(axis=0, how='any',inplace=True)\n",
    "print(full_dataset_df.isnull().sum())"
   ]
  },
  {
   "cell_type": "markdown",
   "id": "4e98887c",
   "metadata": {},
   "source": [
    "As seen above, no Null values are present and all the data within the csv is complete, so no more cleaning is required."
   ]
  },
  {
   "cell_type": "markdown",
   "id": "a311e7bc",
   "metadata": {},
   "source": [
    "## Exploring our Dataset"
   ]
  },
  {
   "cell_type": "code",
   "execution_count": 10,
   "id": "4570ab52",
   "metadata": {},
   "outputs": [
    {
     "name": "stdout",
     "output_type": "stream",
     "text": [
      "1    59990\n",
      "0    56445\n",
      "Name: Fake/Not Fake, dtype: int64\n"
     ]
    },
    {
     "data": {
      "image/png": "[encoded data removed]",
      "text/plain": [
       "<Figure size 500x500 with 1 Axes>"
      ]
     },
     "metadata": {},
     "output_type": "display_data"
    }
   ],
   "source": [
    "# Data Visualisation\n",
    "print(full_dataset_df['Fake/Not Fake'].value_counts())\n",
    "sb.catplot(x = \"Fake/Not Fake\", data = full_dataset_df, kind = \"count\")\n",
    "plt.show()"
   ]
  },
  {
   "cell_type": "markdown",
   "id": "c3847040",
   "metadata": {},
   "source": [
    "As seen above, our data for fake and not fake labels are about the same, so we need not worry about issues relating to skewed datasets"
   ]
  },
  {
   "cell_type": "markdown",
   "id": "bb1cb131",
   "metadata": {},
   "source": [
    "## Data Preprocessing and Feature Selection"
   ]
  },
  {
   "cell_type": "markdown",
   "id": "d7afd558",
   "metadata": {},
   "source": [
    "For our model, we will be selecting the following features: title and text to help determine whether the news article/piece of information is likely fake. We believe they are the most valuable features to determine if the news is fake or not as the date of publication and news subject do not convey as much meaningful information to determine the news' legitimacy."
   ]
  },
  {
   "cell_type": "markdown",
   "id": "7ba41254",
   "metadata": {},
   "source": [
    "We will now be moving onto preprocessing our data, before it will be ready and suitable for training our model. We will first be tokenising our data.\n",
    "\n",
    "**Tokenising** <br>\n",
    "Tokenising is the process of breaking down text into smaller units called tokens. These tokens can be words or numbers. Tokenising is a fundamental step in text processing  and NLP because it helps in understanding the context and developing the structure of the text data. In this project, we will be focusing on word tokenising.\n",
    "\n",
    "Word Tokenising: This involves splitting a piece of text into individual words. It's useful for tasks that require analysis at the word level, such as frequency distribution analysis, stopwords removal, and word-based filtering, which will be used in our model.\n",
    "\n",
    "For this project, we will be using the punkt tokeniser.\n",
    "\n",
    "**Stop word Removal** <br>\n",
    "Stop word removal is a widely-used preprocessing technique that filters out words that does not convey too much information/meaning such as \"the\", \"a\", \"is\". This helps to improve efficiency as well as improve the overall quality of our training set.\n",
    "\n",
    "For this project, we will use the library of stop words as prescribed by the NLTK library.\n",
    "\n",
    "**Stemming**<br>\n",
    "Stemming in the context of NLP refers to the process of reducing a word to its root meaning(Eg. swimming/swims -> swim). It helps to simplify and standardise words in the processed data to help improve the efficiency of the model as well as its training.\n",
    "\n",
    "For this project, we will be using the Porter Stemming. "
   ]
  },
  {
   "cell_type": "code",
   "execution_count": 11,
   "id": "bffb5201",
   "metadata": {},
   "outputs": [
    {
     "name": "stdout",
     "output_type": "stream",
     "text": [
      "<class 'pandas.core.frame.DataFrame'>\n",
      "RangeIndex: 116435 entries, 0 to 116434\n",
      "Data columns (total 3 columns):\n",
      " #   Column         Non-Null Count   Dtype \n",
      "---  ------         --------------   ----- \n",
      " 0   title          116435 non-null  object\n",
      " 1   text           116435 non-null  object\n",
      " 2   Fake/Not Fake  116435 non-null  int64 \n",
      "dtypes: int64(1), object(2)\n",
      "memory usage: 2.7+ MB\n"
     ]
    },
    {
     "name": "stderr",
     "output_type": "stream",
     "text": [
      "[nltk_data] Downloading package punkt to\n",
      "[nltk_data]     /Users/syed_aliredha/nltk_data...\n",
      "[nltk_data]   Package punkt is already up-to-date!\n",
      "[nltk_data] Downloading package stopwords to\n",
      "[nltk_data]     /Users/syed_aliredha/nltk_data...\n",
      "[nltk_data]   Package stopwords is already up-to-date!\n"
     ]
    },
    {
     "data": {
      "text/plain": [
       "(None,\n",
       "                                                title  \\\n",
       " 0  N.J. Democrats divided on renewing 'Bridgegate...   \n",
       " 1  NO KIDDING! HERE’S WHY HILLARY SUPPORTERS Will...   \n",
       " 2          Iraqi Army: US Hindering Advance on Mosul   \n",
       " 3  Britain frustrated by slow pace of Brexit talk...   \n",
       " 4  Israeli Trump supporters open campaign office ...   \n",
       " \n",
       "                                                 text  Fake/Not Fake  \n",
       " 0   (This March 30 story was corrected to note Pr...              0  \n",
       " 1                Wow! The Dems are so out of touch                1  \n",
       " 2  LUCIFER in the Temple of the Dog II ‹ › GPD is...              1  \n",
       " 3  MANCHESTER, England (Reuters) - Prime Minister...              0  \n",
       " 4  JERUSALEM (Reuters) - Israeli supporters of U....              0  )"
      ]
     },
     "execution_count": 11,
     "metadata": {},
     "output_type": "execute_result"
    }
   ],
   "source": [
    "# Download necessary NLTK data\n",
    "nltk.download('punkt')\n",
    "nltk.download('stopwords')\n",
    "\n",
    "# Set of English stop words\n",
    "stop_words = set(stopwords.words('english'))\n",
    "\n",
    "# Initialize Porter Stemmer\n",
    "porter = PorterStemmer()\n",
    "\n",
    "# Shuffle the combined dataset to ensure a random distribution of fake and true news\n",
    "full_dataset_df = full_dataset_df.sample(frac=1, random_state=42).reset_index(drop=True)\n",
    "\n",
    "# Display the structure of the combined dataset and a few random rows to ensure proper combination and shuffling\n",
    "full_dataset_df.info(), full_dataset_df.head()"
   ]
  },
  {
   "cell_type": "code",
   "execution_count": 12,
   "id": "81655ff7",
   "metadata": {},
   "outputs": [],
   "source": [
    "def preprocess_data(text):\n",
    "    text = text.lower()\n",
    "    # Remove non-alphanumeric characters\n",
    "    text = re.sub(r'\\W+', ' ', text)\n",
    "    \n",
    "    # Tokenization\n",
    "    words = word_tokenize(text)\n",
    "    \n",
    "    # Remove stop words and stemming\n",
    "    filtered_words = [porter.stem(word) for word in words if word not in stop_words]\n",
    "    \n",
    "    # Join words back to text\n",
    "    text = ' '.join(filtered_words)\n",
    "    \n",
    "    return text"
   ]
  },
  {
   "cell_type": "markdown",
   "id": "5521b5cf",
   "metadata": {},
   "source": [
    "Note that the cell below may take a while to run(~5min)"
   ]
  },
  {
   "cell_type": "code",
   "execution_count": 13,
   "id": "ee38318e",
   "metadata": {},
   "outputs": [
    {
     "data": {
      "text/html": [
       "<div>\n",
       "<style scoped>\n",
       "    .dataframe tbody tr th:only-of-type {\n",
       "        vertical-align: middle;\n",
       "    }\n",
       "\n",
       "    .dataframe tbody tr th {\n",
       "        vertical-align: top;\n",
       "    }\n",
       "\n",
       "    .dataframe thead th {\n",
       "        text-align: right;\n",
       "    }\n",
       "</style>\n",
       "<table border=\"1\" class=\"dataframe\">\n",
       "  <thead>\n",
       "    <tr style=\"text-align: right;\">\n",
       "      <th></th>\n",
       "      <th>combined_text</th>\n",
       "      <th>Fake/Not Fake</th>\n",
       "    </tr>\n",
       "  </thead>\n",
       "  <tbody>\n",
       "    <tr>\n",
       "      <th>0</th>\n",
       "      <td>n j democrat divid renew bridgeg probe christi...</td>\n",
       "      <td>0</td>\n",
       "    </tr>\n",
       "    <tr>\n",
       "      <th>1</th>\n",
       "      <td>kid hillari support get us kill video wow dem ...</td>\n",
       "      <td>1</td>\n",
       "    </tr>\n",
       "    <tr>\n",
       "      <th>2</th>\n",
       "      <td>iraqi armi us hinder advanc mosul lucif templ ...</td>\n",
       "      <td>1</td>\n",
       "    </tr>\n",
       "    <tr>\n",
       "      <th>3</th>\n",
       "      <td>britain frustrat slow pace brexit talk financ ...</td>\n",
       "      <td>0</td>\n",
       "    </tr>\n",
       "    <tr>\n",
       "      <th>4</th>\n",
       "      <td>isra trump support open campaign offic west ba...</td>\n",
       "      <td>0</td>\n",
       "    </tr>\n",
       "  </tbody>\n",
       "</table>\n",
       "</div>"
      ],
      "text/plain": [
       "                                       combined_text  Fake/Not Fake\n",
       "0  n j democrat divid renew bridgeg probe christi...              0\n",
       "1  kid hillari support get us kill video wow dem ...              1\n",
       "2  iraqi armi us hinder advanc mosul lucif templ ...              1\n",
       "3  britain frustrat slow pace brexit talk financ ...              0\n",
       "4  isra trump support open campaign offic west ba...              0"
      ]
     },
     "execution_count": 13,
     "metadata": {},
     "output_type": "execute_result"
    }
   ],
   "source": [
    "# Apply preprocessing to both 'title' and 'text'\n",
    "full_dataset_df['title'] = full_dataset_df['title'].apply(preprocess_data)\n",
    "full_dataset_df['text'] = full_dataset_df['text'].apply(preprocess_data)\n",
    "\n",
    "# Combining 'title' and 'text' into a single column for simplicity\n",
    "full_dataset_df['combined_text'] = full_dataset_df['title'] + \" \" + full_dataset_df['text']\n",
    "\n",
    "# Display the structure and first few rows of the processed dataframe to verify preprocessing\n",
    "full_dataset_df[['combined_text', 'Fake/Not Fake']].head()"
   ]
  },
  {
   "cell_type": "markdown",
   "id": "49ce8893",
   "metadata": {},
   "source": [
    "**Test-train split**<br>\n",
    "To test the future effectiveness of our model, we will be splitting our data into a test set and train set. The train set will be used to fit the vectoriser and train the model while our test set will be used to evaluate our model performance. The split is done randomly so that both sets will have a good representation of our data. The split is also done so that our evaluation will be on data that the model has not seen before, and thus more accurately shows how the model fairs to general real-time news data, that our users will be interacting with.\n",
    "\n",
    "**Vectorising**<br>\n",
    "Vectorisation in NLP is a method to convert text data into a numerical representation so that the ML algorithms can understand the process the text data better. \n",
    "\n",
    "We will be using Term Frequency-Inverse Document Frequency(TF_IDF) vectorisation method to assign more weight to words that are more unique and thus more important in our classification.\n"
   ]
  },
  {
   "cell_type": "code",
   "execution_count": 14,
   "id": "ea8abef8",
   "metadata": {},
   "outputs": [
    {
     "data": {
      "text/plain": [
       "((93148, 10000), (23287, 10000))"
      ]
     },
     "execution_count": 14,
     "metadata": {},
     "output_type": "execute_result"
    }
   ],
   "source": [
    "# Splitting the dataset into training and testing sets\n",
    "X_train, X_test, y_train, y_test = train_test_split(\n",
    "    full_dataset_df['combined_text'], full_dataset_df['Fake/Not Fake'], test_size=0.2, random_state=42)\n",
    "\n",
    "# Initialize the TF-IDF Vectorizer\n",
    "tfidf_vectorizer = TfidfVectorizer(max_features=10000)\n",
    "\n",
    "# Fit and transform the training data, and transform the testing data\n",
    "X_train_tfidf = tfidf_vectorizer.fit_transform(X_train)\n",
    "X_test_tfidf = tfidf_vectorizer.transform(X_test)\n",
    "\n",
    "# Display the shape of the resulting TF-IDF matrices\n",
    "(X_train_tfidf.shape, X_test_tfidf.shape)"
   ]
  },
  {
   "cell_type": "markdown",
   "id": "1997b592",
   "metadata": {},
   "source": [
    "## Training different Machine Learning Models"
   ]
  },
  {
   "cell_type": "markdown",
   "id": "6d1fffcf",
   "metadata": {},
   "source": [
    "We will now test our data on different machine learning models and test to see which one is best in predicting fake news.<br>\n",
    "We will be testing 4 different models:\n",
    "- **Logistic Regression** (classical method for binary classification)\n",
    "- **Naive Bayes Classifier** (Good for high dimensional data, like our own test/train set)\n",
    "- **Passive Aggressive Classifier** (Updates itself aggressively when dealing with misclassification, making it more robust in dealing with noise and better for fake news)\n",
    "- **Support Vector Machine** (Good for high dimensional data, like our own test/train set)\n",
    "- **Neural Networks** (The current trend for AI)"
   ]
  },
  {
   "cell_type": "code",
   "execution_count": 15,
   "id": "9376691b",
   "metadata": {},
   "outputs": [
    {
     "name": "stdout",
     "output_type": "stream",
     "text": [
      "Accuracy: 0.9648731051659725\n",
      "              precision    recall  f1-score   support\n",
      "\n",
      "           0       0.97      0.96      0.96     11365\n",
      "           1       0.96      0.97      0.97     11922\n",
      "\n",
      "    accuracy                           0.96     23287\n",
      "   macro avg       0.97      0.96      0.96     23287\n",
      "weighted avg       0.96      0.96      0.96     23287\n",
      "\n"
     ]
    }
   ],
   "source": [
    "from sklearn.linear_model import LogisticRegression\n",
    "from sklearn.metrics import classification_report, accuracy_score\n",
    "\n",
    "# Initialize the Logistic Regression model\n",
    "lr_model = LogisticRegression(max_iter=1000, random_state=42)\n",
    "\n",
    "# Train the model on the training set\n",
    "lr_model.fit(X_train_tfidf, y_train)\n",
    "\n",
    "# Predictions on the test set\n",
    "y_pred_lr = lr_model.predict(X_test_tfidf)\n",
    "\n",
    "# Evaluate the model\n",
    "print(\"Accuracy:\", accuracy_score(y_test, y_pred_lr))\n",
    "print(classification_report(y_test, y_pred_lr))"
   ]
  },
  {
   "cell_type": "code",
   "execution_count": 16,
   "id": "14da781b",
   "metadata": {},
   "outputs": [
    {
     "name": "stdout",
     "output_type": "stream",
     "text": [
      "Accuracy: 0.8764117318675656\n",
      "              precision    recall  f1-score   support\n",
      "\n",
      "           0       0.89      0.85      0.87     11365\n",
      "           1       0.86      0.90      0.88     11922\n",
      "\n",
      "    accuracy                           0.88     23287\n",
      "   macro avg       0.88      0.88      0.88     23287\n",
      "weighted avg       0.88      0.88      0.88     23287\n",
      "\n"
     ]
    }
   ],
   "source": [
    "from sklearn.naive_bayes import MultinomialNB\n",
    "\n",
    "# Initialise the Naive Bayes classifier model\n",
    "nb_model = MultinomialNB()\n",
    "\n",
    "# Train the model on the training set\n",
    "nb_model.fit(X_train_tfidf, y_train)\n",
    "\n",
    "# Predictions on the test set\n",
    "y_pred_nb = nb_model.predict(X_test_tfidf)\n",
    "\n",
    "# Evaluate the model\n",
    "print(\"Accuracy:\", accuracy_score(y_test, y_pred_nb))\n",
    "print(classification_report(y_test, y_pred_nb))"
   ]
  },
  {
   "cell_type": "code",
   "execution_count": 17,
   "id": "eb3d8c1f",
   "metadata": {},
   "outputs": [
    {
     "name": "stdout",
     "output_type": "stream",
     "text": [
      "Accuracy: 0.9771116932193928\n",
      "              precision    recall  f1-score   support\n",
      "\n",
      "           0       0.98      0.97      0.98     11365\n",
      "           1       0.97      0.98      0.98     11922\n",
      "\n",
      "    accuracy                           0.98     23287\n",
      "   macro avg       0.98      0.98      0.98     23287\n",
      "weighted avg       0.98      0.98      0.98     23287\n",
      "\n"
     ]
    }
   ],
   "source": [
    "from sklearn.linear_model import PassiveAggressiveClassifier\n",
    "\n",
    "# Initialise the Passive Aggressive Classifier model\n",
    "pa_model = PassiveAggressiveClassifier(max_iter=1000, random_state=42)\n",
    "\n",
    "# Train the model on the training set\n",
    "pa_model.fit(X_train_tfidf, y_train)\n",
    "\n",
    "# Predictions on the test set\n",
    "y_pred_pa = pa_model.predict(X_test_tfidf)\n",
    "\n",
    "# Evaluate the model\n",
    "print(\"Accuracy:\", accuracy_score(y_test, y_pred_pa))\n",
    "print(classification_report(y_test, y_pred_pa))"
   ]
  },
  {
   "cell_type": "code",
   "execution_count": 18,
   "id": "463b7dfc",
   "metadata": {
    "scrolled": true
   },
   "outputs": [
    {
     "name": "stderr",
     "output_type": "stream",
     "text": [
      "/Users/syed_aliredha/anaconda3/lib/python3.11/site-packages/sklearn/svm/_classes.py:32: FutureWarning: The default value of `dual` will change from `True` to `'auto'` in 1.5. Set the value of `dual` explicitly to suppress the warning.\n",
      "  warnings.warn(\n"
     ]
    },
    {
     "name": "stdout",
     "output_type": "stream",
     "text": [
      "Accuracy: 0.9755228238931593\n",
      "              precision    recall  f1-score   support\n",
      "\n",
      "           0       0.98      0.97      0.97     11365\n",
      "           1       0.97      0.98      0.98     11922\n",
      "\n",
      "    accuracy                           0.98     23287\n",
      "   macro avg       0.98      0.98      0.98     23287\n",
      "weighted avg       0.98      0.98      0.98     23287\n",
      "\n"
     ]
    }
   ],
   "source": [
    "from sklearn.svm import LinearSVC\n",
    "\n",
    "# Initialize the Support Vector Machine model\n",
    "svm_model = LinearSVC(random_state=42)\n",
    "\n",
    "# Train the model on the training set\n",
    "svm_model.fit(X_train_tfidf, y_train)\n",
    "\n",
    "# Predictions on the test set\n",
    "y_pred_svm = svm_model.predict(X_test_tfidf)\n",
    "\n",
    "# Evaluate the model\n",
    "print(\"Accuracy:\", accuracy_score(y_test, y_pred_svm))\n",
    "print(classification_report(y_test, y_pred_svm))"
   ]
  },
  {
   "cell_type": "markdown",
   "id": "e4c98e5e",
   "metadata": {},
   "source": [
    "## Neural Network Model"
   ]
  },
  {
   "cell_type": "markdown",
   "id": "9df00d08",
   "metadata": {},
   "source": [
    "We will be using a simple multilayer perceptron as a model to predict the fake news. To do so, we will be using the tensorflow library to help build our model.\n",
    "\n",
    "Our features selected for the moodel is as follows:\n",
    "  - We used the ReLU activation function for its non-linearity as well as history for being an effective activation function for classification and regression tasks, and a sigmoid function for the last layer since it is commonly used as an output for binary classification tasks\n",
    "  - We added dropout layers and L2 regularisation within each dense layer to reduce complexity and overfitting (When the data fits too well to training data and becomes bad at generalising to new data),\n",
    "  - We used Batch Normalisation to help improve both training as well as training speed\n",
    "  - Adam optimizer is a standard optimizer used in training neural networks and we used binary crossentropy as our loss function since classification problems often uses it"
   ]
  },
  {
   "cell_type": "code",
   "execution_count": 19,
   "id": "a97f1205",
   "metadata": {},
   "outputs": [
    {
     "name": "stdout",
     "output_type": "stream",
     "text": [
      "Epoch 1/20\n"
     ]
    },
    {
     "name": "stderr",
     "output_type": "stream",
     "text": [
      "2024-03-26 15:23:10.539127: W tensorflow/tsl/platform/profile_utils/cpu_utils.cc:128] Failed to get CPU frequency: 0 Hz\n"
     ]
    },
    {
     "name": "stdout",
     "output_type": "stream",
     "text": [
      "2620/2620 [==============================] - 8s 3ms/step - loss: 0.2379 - accuracy: 0.9377 - val_loss: 0.1170 - val_accuracy: 0.9660\n",
      "Epoch 2/20\n",
      "2620/2620 [==============================] - 7s 3ms/step - loss: 0.0846 - accuracy: 0.9766 - val_loss: 0.0837 - val_accuracy: 0.9747\n",
      "Epoch 3/20\n",
      "2620/2620 [==============================] - 7s 3ms/step - loss: 0.0472 - accuracy: 0.9884 - val_loss: 0.0741 - val_accuracy: 0.9785\n",
      "Epoch 4/20\n",
      "2620/2620 [==============================] - 7s 3ms/step - loss: 0.0295 - accuracy: 0.9931 - val_loss: 0.0856 - val_accuracy: 0.9773\n",
      "Epoch 5/20\n",
      "2620/2620 [==============================] - 7s 3ms/step - loss: 0.0207 - accuracy: 0.9958 - val_loss: 0.0933 - val_accuracy: 0.9808\n",
      "Epoch 6/20\n",
      "2620/2620 [==============================] - 8s 3ms/step - loss: 0.0162 - accuracy: 0.9968 - val_loss: 0.0911 - val_accuracy: 0.9797\n",
      "Epoch 7/20\n",
      "2620/2620 [==============================] - 7s 3ms/step - loss: 0.0146 - accuracy: 0.9975 - val_loss: 0.0789 - val_accuracy: 0.9800\n",
      "Epoch 8/20\n",
      "2620/2620 [==============================] - 7s 3ms/step - loss: 0.0119 - accuracy: 0.9980 - val_loss: 0.1332 - val_accuracy: 0.9765\n",
      "Epoch 9/20\n",
      "2620/2620 [==============================] - 7s 3ms/step - loss: 0.0122 - accuracy: 0.9980 - val_loss: 0.0922 - val_accuracy: 0.9816\n",
      "Epoch 10/20\n",
      "2620/2620 [==============================] - 7s 3ms/step - loss: 0.0098 - accuracy: 0.9982 - val_loss: 0.1003 - val_accuracy: 0.9793\n",
      "Epoch 11/20\n",
      "2620/2620 [==============================] - 7s 3ms/step - loss: 0.0100 - accuracy: 0.9983 - val_loss: 0.0960 - val_accuracy: 0.9782\n",
      "Epoch 12/20\n",
      "2620/2620 [==============================] - 7s 3ms/step - loss: 0.0088 - accuracy: 0.9987 - val_loss: 0.1050 - val_accuracy: 0.9802\n",
      "Epoch 13/20\n",
      "2620/2620 [==============================] - 7s 3ms/step - loss: 0.0064 - accuracy: 0.9990 - val_loss: 0.0894 - val_accuracy: 0.9813\n",
      "Epoch 14/20\n",
      "2620/2620 [==============================] - 7s 3ms/step - loss: 0.0076 - accuracy: 0.9989 - val_loss: 0.1077 - val_accuracy: 0.9798\n",
      "Epoch 15/20\n",
      "2620/2620 [==============================] - 7s 3ms/step - loss: 0.0073 - accuracy: 0.9990 - val_loss: 0.1564 - val_accuracy: 0.9702\n",
      "Epoch 16/20\n",
      "2620/2620 [==============================] - 7s 3ms/step - loss: 0.0064 - accuracy: 0.9990 - val_loss: 0.1122 - val_accuracy: 0.9813\n",
      "Epoch 17/20\n",
      "2620/2620 [==============================] - 7s 3ms/step - loss: 0.0059 - accuracy: 0.9992 - val_loss: 0.1126 - val_accuracy: 0.9804\n",
      "Epoch 18/20\n",
      "2620/2620 [==============================] - 7s 3ms/step - loss: 0.0058 - accuracy: 0.9991 - val_loss: 0.1132 - val_accuracy: 0.9805\n",
      "Epoch 19/20\n",
      "2620/2620 [==============================] - 7s 3ms/step - loss: 0.0057 - accuracy: 0.9992 - val_loss: 0.1171 - val_accuracy: 0.9806\n",
      "Epoch 20/20\n",
      "2620/2620 [==============================] - 7s 3ms/step - loss: 0.0059 - accuracy: 0.9990 - val_loss: 0.1220 - val_accuracy: 0.9801\n",
      "728/728 [==============================] - 1s 950us/step\n",
      "Recall: 0.9916960241570206\n",
      "728/728 - 1s - loss: 0.1230 - accuracy: 0.9805 - 610ms/epoch - 839us/step\n",
      "Test accuracy: 0.9804611802101135\n"
     ]
    }
   ],
   "source": [
    "import tensorflow as tf\n",
    "from tensorflow.keras.models import Sequential\n",
    "from tensorflow.keras.layers import Dense, BatchNormalization, Dropout\n",
    "from scipy.sparse import csr_matrix\n",
    "from sklearn.metrics import recall_score\n",
    "\n",
    "# Ensure the vectorized data is in dense format, as tensorflow needs dense matrices to train and our data is in\n",
    "# a sparse matrix format\n",
    "\n",
    "X_train_dense = X_train_tfidf.todense()\n",
    "X_test_dense = X_test_tfidf.todense()\n",
    "\n",
    "# Neural Network Architecture, decided after hyperparameter tuning (testing out different values for:\n",
    "# the number of layers in our network, number of neurons in each layer, activation function, dropout values, etc.)\n",
    "\n",
    "model = Sequential([\n",
    "    Dense(256, activation='relu', input_shape=(X_train_dense.shape[1],)),\n",
    "    Dropout(0.15),\n",
    "    Dense(128, activation='relu', kernel_regularizer=tf.keras.regularizers.l2(0.001)),\n",
    "    BatchNormalization(),\n",
    "    Dense(128, activation='relu'),\n",
    "    Dropout(0.15),\n",
    "    BatchNormalization(),\n",
    "    Dense(64, activation='relu'),\n",
    "    BatchNormalization(),\n",
    "    Dropout(0.15),\n",
    "    Dense(64, activation='relu'),\n",
    "    BatchNormalization(),\n",
    "    Dropout(0.15),\n",
    "    Dense(1, activation='sigmoid')\n",
    "])\n",
    "\n",
    "# Compile model\n",
    "model.compile(optimizer='adam',\n",
    "              loss='binary_crossentropy',\n",
    "              metrics=['accuracy'])\n",
    "\n",
    "# Train model\n",
    "history = model.fit(X_train_dense, y_train, epochs=20, batch_size=32, validation_split=0.1, verbose=1)\n",
    "\n",
    "# Accuracy metrics\n",
    "predictions = model.predict(X_test_dense)\n",
    "predicted_classes = (predictions > 0.5).astype(int)\n",
    "recall = recall_score(y_test, predicted_classes)\n",
    "print(f\"Recall: {recall}\")\n",
    "\n",
    "test_loss, test_accuracy = model.evaluate(X_test_dense, y_test, verbose=2)\n",
    "print(f'Test accuracy: {test_accuracy}')"
   ]
  },
  {
   "cell_type": "code",
   "execution_count": 20,
   "id": "74746af4",
   "metadata": {},
   "outputs": [
    {
     "name": "stdout",
     "output_type": "stream",
     "text": [
      "Model: \"sequential\"\n",
      "_________________________________________________________________\n",
      " Layer (type)                Output Shape              Param #   \n",
      "=================================================================\n",
      " dense (Dense)               (None, 256)               2560256   \n",
      "                                                                 \n",
      " dropout (Dropout)           (None, 256)               0         \n",
      "                                                                 \n",
      " dense_1 (Dense)             (None, 128)               32896     \n",
      "                                                                 \n",
      " batch_normalization (BatchN  (None, 128)              512       \n",
      " ormalization)                                                   \n",
      "                                                                 \n",
      " dense_2 (Dense)             (None, 128)               16512     \n",
      "                                                                 \n",
      " dropout_1 (Dropout)         (None, 128)               0         \n",
      "                                                                 \n",
      " batch_normalization_1 (Batc  (None, 128)              512       \n",
      " hNormalization)                                                 \n",
      "                                                                 \n",
      " dense_3 (Dense)             (None, 64)                8256      \n",
      "                                                                 \n",
      " batch_normalization_2 (Batc  (None, 64)               256       \n",
      " hNormalization)                                                 \n",
      "                                                                 \n",
      " dropout_2 (Dropout)         (None, 64)                0         \n",
      "                                                                 \n",
      " dense_4 (Dense)             (None, 64)                4160      \n",
      "                                                                 \n",
      " batch_normalization_3 (Batc  (None, 64)               256       \n",
      " hNormalization)                                                 \n",
      "                                                                 \n",
      " dropout_3 (Dropout)         (None, 64)                0         \n",
      "                                                                 \n",
      " dense_5 (Dense)             (None, 1)                 65        \n",
      "                                                                 \n",
      "=================================================================\n",
      "Total params: 2,623,681\n",
      "Trainable params: 2,622,913\n",
      "Non-trainable params: 768\n",
      "_________________________________________________________________\n"
     ]
    }
   ],
   "source": [
    "model.summary()"
   ]
  },
  {
   "cell_type": "markdown",
   "id": "c5dab916",
   "metadata": {},
   "source": [
    "## Model Evaluation"
   ]
  },
  {
   "cell_type": "markdown",
   "id": "006f6f3b",
   "metadata": {},
   "source": [
    "We will now be evaluating our models, and determining which one is best for detecting fake news. We will be utilising 2 metrics to decide which model is the best: **accuracy and recall**. \n",
    "\n",
    "Accuracy refers to percentage of correct classifications made by the model. \n",
    "\n",
    "Recall measures the probability that a piece of fake news correctly identified amongst all the actual fake news. \n",
    "We would like to especially place emphasis on recall as it is more pertinent to not misclassify suspicious news as suspicious for our users than not classifying the converse."
   ]
  },
  {
   "cell_type": "code",
   "execution_count": 21,
   "id": "f1575250",
   "metadata": {},
   "outputs": [
    {
     "data": {
      "image/png": "[encoded data removed]",
      "text/plain": [
       "<Figure size 1200x1000 with 8 Axes>"
      ]
     },
     "metadata": {},
     "output_type": "display_data"
    }
   ],
   "source": [
    "from sklearn.metrics import confusion_matrix\n",
    "\n",
    "f, axes = plt.subplots(2, 2, figsize=(12, 10))\n",
    "axes[0][0].set_title(\"Logistic Regression\")\n",
    "axes[0][1].set_title(\"Naive Bayes\")\n",
    "axes[1][0].set_title(\"Passive Aggressive Classification\")\n",
    "axes[1][1].set_title(\"Support Vector Machine\")\n",
    "sb.heatmap(confusion_matrix(y_test, y_pred_lr),\n",
    "           annot = True, fmt=\".0f\", annot_kws={\"size\": 18}, ax = axes[0][0])\n",
    "sb.heatmap(confusion_matrix(y_test, y_pred_nb), \n",
    "           annot = True, fmt=\".0f\", annot_kws={\"size\": 18}, ax = axes[0][1])\n",
    "sb.heatmap(confusion_matrix(y_test, y_pred_pa), \n",
    "           annot = True, fmt=\".0f\", annot_kws={\"size\": 18}, ax = axes[1][0])\n",
    "sb.heatmap(confusion_matrix(y_test, y_pred_svm), \n",
    "           annot = True, fmt=\".0f\", annot_kws={\"size\": 18}, ax = axes[1][1])\n",
    "plt.show()"
   ]
  },
  {
   "cell_type": "markdown",
   "id": "94fcf2ae",
   "metadata": {},
   "source": [
    "Above shows the confusion matrix (a matrix to show the different numbers of True Positive, True Negative, False Positive and False Negative Rates) to better visualise which models are better."
   ]
  },
  {
   "cell_type": "code",
   "execution_count": 22,
   "id": "8cea6028",
   "metadata": {},
   "outputs": [
    {
     "name": "stdout",
     "output_type": "stream",
     "text": [
      "Logistical Regression\n",
      "Accuracy: 0.9648731051659725\n",
      "              precision    recall  f1-score   support\n",
      "\n",
      "           0  0.96996703 0.95767708 0.96378287     11365\n",
      "           1  0.96013592 0.97173293 0.96589962     11922\n",
      "\n",
      "    accuracy                      0.96487311     23287\n",
      "   macro avg  0.96505147 0.96470500 0.96484125     23287\n",
      "weighted avg  0.96493390 0.96487311 0.96486656     23287\n",
      "\n",
      "Naive Bayes Classifier\n",
      "Accuracy: 0.8764117318675656\n",
      "              precision    recall  f1-score   support\n",
      "\n",
      "           0  0.89426740 0.84689837 0.86993854     11365\n",
      "           1  0.86106675 0.90454622 0.88227113     11922\n",
      "\n",
      "    accuracy                      0.87641173     23287\n",
      "   macro avg  0.87766707 0.87572229 0.87610483     23287\n",
      "weighted avg  0.87727001 0.87641173 0.87625232     23287\n",
      "\n",
      "Passive Aggressive Classifier\n",
      "Accuracy: 0.9771116932193928\n",
      "              precision    recall  f1-score   support\n",
      "\n",
      "           0  0.98090925 0.97201936 0.97644407     11365\n",
      "           1  0.97355509 0.98196611 0.97774251     11922\n",
      "\n",
      "    accuracy                      0.97711169     23287\n",
      "   macro avg  0.97723217 0.97699274 0.97709329     23287\n",
      "weighted avg  0.97714422 0.97711169 0.97710882     23287\n",
      "\n",
      "Support Vector Machine\n",
      "Accuracy: 0.9755228238931593\n",
      "              precision    recall  f1-score   support\n",
      "\n",
      "           0  0.98127508 0.96832380 0.97475642     11365\n",
      "           1  0.97017893 0.98238551 0.97624406     11922\n",
      "\n",
      "    accuracy                      0.97552282     23287\n",
      "   macro avg  0.97572700 0.97535465 0.97550024     23287\n",
      "weighted avg  0.97559430 0.97552282 0.97551803     23287\n",
      "\n",
      "Neural Network\n",
      "Accuracy: 0.9804611802101135\n",
      "Recall: 0.9916960241570206\n"
     ]
    }
   ],
   "source": [
    "# Print the score of each model\n",
    "print(\"Logistical Regression\")\n",
    "print(f\"Accuracy: {accuracy_score(y_test, y_pred_lr)}\")\n",
    "print(classification_report(y_test, y_pred_lr, digits=8))\n",
    "\n",
    "print(\"Naive Bayes Classifier\")\n",
    "print(f\"Accuracy: {accuracy_score(y_test, y_pred_nb)}\")\n",
    "print(classification_report(y_test, y_pred_nb, digits=8))\n",
    "\n",
    "print(\"Passive Aggressive Classifier\")\n",
    "print(f\"Accuracy: {accuracy_score(y_test, y_pred_pa)}\")\n",
    "print(classification_report(y_test, y_pred_pa, digits=8))\n",
    "\n",
    "print(\"Support Vector Machine\")\n",
    "print(f\"Accuracy: {accuracy_score(y_test, y_pred_svm)}\")\n",
    "print(classification_report(y_test, y_pred_svm, digits=8))\n",
    "\n",
    "print(\"Neural Network\")\n",
    "print(f\"Accuracy: {test_accuracy}\")\n",
    "print(f\"Recall: {recall}\")"
   ]
  },
  {
   "cell_type": "markdown",
   "id": "32060158",
   "metadata": {},
   "source": [
    "As seen above, amongst all the traditional machine learning models, the Passive Aggressive Classifier has both the best accuracy as well as the best recall. \n",
    "\n",
    "However, as we can see that our deep learning model works much better. Therefore, we will be utlising it in our plug-in!"
   ]
  },
  {
   "cell_type": "markdown",
   "id": "6b386124",
   "metadata": {},
   "source": [
    "## Our Model in Action"
   ]
  },
  {
   "cell_type": "markdown",
   "id": "e843a673",
   "metadata": {},
   "source": [
    "Now that we have our model, lets try to test on some data on the internet! \n",
    "\n",
    "We will use beautifulsoup to scrap news title and news content from live websites and parsing these data to our model to evaluate its effectiveness in detecting possible fake news."
   ]
  },
  {
   "cell_type": "code",
   "execution_count": 23,
   "id": "0ea4125c",
   "metadata": {},
   "outputs": [
    {
     "name": "stdout",
     "output_type": "stream",
     "text": [
      "Requirement already satisfied: requests in /Users/syed_aliredha/anaconda3/lib/python3.11/site-packages (2.31.0)\n",
      "Requirement already satisfied: charset-normalizer<4,>=2 in /Users/syed_aliredha/anaconda3/lib/python3.11/site-packages (from requests) (2.0.4)\n",
      "Requirement already satisfied: idna<4,>=2.5 in /Users/syed_aliredha/anaconda3/lib/python3.11/site-packages (from requests) (3.4)\n",
      "Requirement already satisfied: urllib3<3,>=1.21.1 in /Users/syed_aliredha/anaconda3/lib/python3.11/site-packages (from requests) (1.26.16)\n",
      "Requirement already satisfied: certifi>=2017.4.17 in /Users/syed_aliredha/anaconda3/lib/python3.11/site-packages (from requests) (2024.2.2)\n",
      "Requirement already satisfied: beautifulsoup4 in /Users/syed_aliredha/anaconda3/lib/python3.11/site-packages (4.12.2)\n",
      "Requirement already satisfied: soupsieve>1.2 in /Users/syed_aliredha/anaconda3/lib/python3.11/site-packages (from beautifulsoup4) (2.4)\n"
     ]
    }
   ],
   "source": [
    "# Install the relevant modules to check url and extract title and content\n",
    "!pip install requests\n",
    "!pip install beautifulsoup4"
   ]
  },
  {
   "cell_type": "code",
   "execution_count": 24,
   "id": "02931158",
   "metadata": {},
   "outputs": [],
   "source": [
    "import requests\n",
    "from bs4 import BeautifulSoup\n",
    "\n",
    "# Define function to parse the url to extract HTML information\n",
    "def download_and_parse_html(url):\n",
    "    response = requests.get(url)\n",
    "    soup = BeautifulSoup(response.text, 'html.parser')\n",
    "    return soup\n",
    "\n",
    "# Extract title and news content from the HTML information\n",
    "def extract_news_content(soup):\n",
    "    # Extract title from the header '<h1>' tag\n",
    "    title = soup.find('h1').get_text()\n",
    "    \n",
    "    # Extract news content from within <p> tags in a specific div\n",
    "    content = ' '.join(p.get_text() for p in soup.find_all('p'))\n",
    "    \n",
    "    return title, content\n",
    "\n",
    "# With the above helper functions extract relevant information from the website \n",
    "# and run it through the ML model for classification\n",
    "def classify_news(url):\n",
    "    try:\n",
    "        soup = download_and_parse_html(url)\n",
    "        title, content = extract_news_content(soup)\n",
    "        \n",
    "        # Preprocess the data\n",
    "        combined_text = preprocess_data(title + \" \" + content)\n",
    "        \n",
    "        # Vectorize the combined text\n",
    "        vectorised_data = tfidf_vectorizer.transform([combined_text])\n",
    "\n",
    "        # Convert the vectorized data to a dense format\n",
    "        vectorised_data_dense = vectorised_data.todense()\n",
    "        \n",
    "        # Make the prediction\n",
    "        prediction_prob = model.predict(vectorised_data_dense)[0][0]*100\n",
    "        prediction_class = (prediction_prob > 50)\n",
    "        print(f\"News is likely {'Fake' if prediction_class == 1 else 'Real'}:\")\n",
    "        print(f\"{prediction_prob:.2f}% likely to be fake based on language\")\n",
    "    except Exception as e:\n",
    "        print(f\"An error occurred: {e}\")"
   ]
  },
  {
   "cell_type": "code",
   "execution_count": 27,
   "id": "a1b21ba6",
   "metadata": {},
   "outputs": [
    {
     "name": "stdout",
     "output_type": "stream",
     "text": [
      "1/1 [==============================] - 0s 9ms/step\n",
      "News is likely Real:\n",
      "1.21% likely to be fake based on language\n"
     ]
    }
   ],
   "source": [
    "classify_news(\"https://www.channelnewsasia.com/singapore/automation-training-initiatives-among-proposed-solutions-singapores-marine-sector-braces-manpower-crunch-4211401\")"
   ]
  },
  {
   "cell_type": "markdown",
   "id": "3dfd523b",
   "metadata": {},
   "source": [
    "**TEST CASES**<br>\n",
    "Fake<br>\n",
    "https://www.theonion.com/irresponsible-millennial-wasting-money-on-coffee-instea-1851358960\n",
    "\n",
    "https://www.newyorker.com/magazine/2024/03/25/the-crime-rings-stealing-everything-from-purses-to-power-tools\n",
    "\n",
    "True<br>\n",
    "https://www.channelnewsasia.com/singapore/automation-training-initiatives-among-proposed-solutions-singapores-marine-sector-braces-manpower-crunch-4211401\n",
    "\n",
    "https://edition.cnn.com/2024/03/21/asia/us-tests-hypersonic-missile-pacific-guam-intl-hnk-ml/index.html"
   ]
  },
  {
   "cell_type": "code",
   "execution_count": null,
   "id": "e1cf20de",
   "metadata": {},
   "outputs": [],
   "source": []
  }
 ],
 "metadata": {
  "kernelspec": {
   "display_name": "Python 3 (ipykernel)",
   "language": "python",
   "name": "python3"
  },
  "language_info": {
   "codemirror_mode": {
    "name": "ipython",
    "version": 3
   },
   "file_extension": ".py",
   "mimetype": "text/x-python",
   "name": "python",
   "nbconvert_exporter": "python",
   "pygments_lexer": "ipython3",
   "version": "3.11.4"
  }
 },
 "nbformat": 4,
 "nbformat_minor": 5
}
